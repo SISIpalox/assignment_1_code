{
 "cells": [
  {
   "cell_type": "code",
   "execution_count": 1,
   "id": "cb8cf0a0-596d-472a-8394-c257270c0990",
   "metadata": {
    "tags": []
   },
   "outputs": [
    {
     "name": "stdout",
     "output_type": "stream",
     "text": [
      "[1, 5, 6, 1, 7, 8, 5, 3, 8, 1, 9, 0, 9, 9, 8, 7, 5, 2, 7, 9, 6, 5, 1, 6, 7, 3, 0, 3, 3, 6, 9, 5, 4, 9, 3, 2, 5, 7, 2, 9, 1, 0, 1, 1, 2, 3, 5, 8, 3, 1, 4, 5, 9, 4, 3, 7, 0, 7, 7, 4, 1, 5, 6, 1, 7, 8, 5, 3, 8, 1, 9, 0, 9, 9, 8, 7, 5, 2, 7, 9, 6, 5, 1, 6, 7, 3, 0, 3, 3, 6, 9, 5, 4, 9, 3, 2, 5, 7, 2, 9]\n"
     ]
    }
   ],
   "source": [
    "def number_bracelet(n, start1, start2):\n",
    "    bracelet = [start1, start2]\n",
    "    for i in range(2, n):\n",
    "        next_number = (bracelet[i-1] + bracelet[i-2]) % 10\n",
    "        bracelet.append(next_number)\n",
    "    return bracelet\n",
    "\n",
    "# make a long bracelet starting with 1 and 5\n",
    "print(number_bracelet(100, 1, 5))\n"
   ]
  },
  {
   "cell_type": "code",
   "execution_count": 2,
   "id": "783a7819-7071-405e-896e-d284ce3dc411",
   "metadata": {
    "tags": []
   },
   "outputs": [],
   "source": [
    "def repeating_series(series):\n",
    "    for i in range(1, len(series)):\n",
    "        if series[:i] == series[i:2*i]:\n",
    "            return series[:i]\n",
    "    return series\n"
   ]
  },
  {
   "cell_type": "code",
   "execution_count": 3,
   "id": "c468c46a-2eed-4c5d-ad0b-b51c82fef3e3",
   "metadata": {
    "tags": []
   },
   "outputs": [
    {
     "name": "stdout",
     "output_type": "stream",
     "text": [
      "Repeating unit: [1, 5, 6, 1, 7, 8, 5, 3, 8, 1, 9, 0, 9, 9, 8, 7, 5, 2, 7, 9, 6, 5, 1, 6, 7, 3, 0, 3, 3, 6, 9, 5, 4, 9, 3, 2, 5, 7, 2, 9, 1, 0, 1, 1, 2, 3, 5, 8, 3, 1, 4, 5, 9, 4, 3, 7, 0, 7, 7, 4]\n"
     ]
    }
   ],
   "source": [
    "# make a long bracelet starting with 1 and 5\n",
    "long_bracelet = number_bracelet(1000, 1, 5)\n",
    "\n",
    "# Find the repeating bracelet\n",
    "repeating_bracelet = repeating_series(long_bracelet)\n",
    "print(\"Repeating unit:\", repeating_bracelet)\n"
   ]
  },
  {
   "cell_type": "code",
   "execution_count": null,
   "id": "6255e997-3e6e-4102-ac1d-796d04120f1a",
   "metadata": {},
   "outputs": [],
   "source": []
  },
  {
   "cell_type": "code",
   "execution_count": null,
   "id": "2cdfb5ee-85f1-496d-a088-1b76a5eda8fa",
   "metadata": {},
   "outputs": [],
   "source": []
  }
 ],
 "metadata": {
  "kernelspec": {
   "display_name": "Python 3 (ipykernel)",
   "language": "python",
   "name": "python3"
  },
  "language_info": {
   "codemirror_mode": {
    "name": "ipython",
    "version": 3
   },
   "file_extension": ".py",
   "mimetype": "text/x-python",
   "name": "python",
   "nbconvert_exporter": "python",
   "pygments_lexer": "ipython3",
   "version": "3.11.5"
  }
 },
 "nbformat": 4,
 "nbformat_minor": 5
}
