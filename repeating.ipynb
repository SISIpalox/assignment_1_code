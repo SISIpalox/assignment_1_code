{
 "cells": [
  {
   "cell_type": "code",
   "execution_count": 13,
   "id": "fd55edfb-f50c-4cfc-905b-88f0cd9f9679",
   "metadata": {
    "tags": []
   },
   "outputs": [
    {
     "name": "stdout",
     "output_type": "stream",
     "text": [
      "(0, 0)\n",
      "(0, 2)\n",
      "(0, 4)\n",
      "(0, 5)\n",
      "(0, 6)\n",
      "(0, 8)\n",
      "(1, 3)\n",
      "(1, 8)\n",
      "(2, 0)\n",
      "(2, 1)\n",
      "(2, 2)\n",
      "(2, 4)\n",
      "(2, 6)\n",
      "(2, 8)\n",
      "(3, 4)\n",
      "(3, 9)\n",
      "(4, 0)\n",
      "(4, 2)\n",
      "(4, 4)\n",
      "(4, 6)\n",
      "(4, 7)\n",
      "(4, 8)\n",
      "(5, 0)\n",
      "(5, 5)\n",
      "(6, 0)\n",
      "(6, 2)\n",
      "(6, 3)\n",
      "(6, 4)\n",
      "(6, 6)\n",
      "(6, 8)\n",
      "(7, 1)\n",
      "(7, 6)\n",
      "(8, 0)\n",
      "(8, 2)\n",
      "(8, 4)\n",
      "(8, 6)\n",
      "(8, 8)\n",
      "(8, 9)\n",
      "(9, 2)\n",
      "(9, 7)\n"
     ]
    }
   ],
   "source": [
    "# The provided sequence\n",
    "sequence = [1, 5, 6, 1, 7, 8, 5, 3, 8, 1, 9, 0, 9, 9, 8, 7, 5, 2, 7, 9, 6, 5, 1, 6, 7, 3, 0, 3, 3, 6, 9, 5, 4, 9, 3, 2, 5, 7, 2, 9, 1, 0, 1, 1, 2, 3, 5, 8, 3, 1, 4, 5, 9, 4, 3, 7, 0, 7, 7, 4, 1]\n",
    "\n",
    "# Generating all possible pairs of numbers from 0 to 9\n",
    "all_possible_pairs = [(i, j) for i in range(10) for j in range(10)]\n",
    "\n",
    "# Generating pairs from the provided sequence\n",
    "sequence_pairs = [(sequence[i], sequence[i+1]) for i in range(len(sequence)-1)]\n",
    "\n",
    "# Identifying missing pairs\n",
    "missing_pairs = set(all_possible_pairs) - set(sequence_pairs)\n",
    "\n",
    "missing_pairs_list = sorted(list(missing_pairs)) # Sorting the list for better readability\n",
    "\n",
    "# Print the missing pairs\n",
    "for pair in missing_pairs_list:\n",
    "    print(pair)"
   ]
  },
  {
   "cell_type": "code",
   "execution_count": 14,
   "id": "ada579ef-3f81-491d-8942-4261f2bc54bb",
   "metadata": {
    "tags": []
   },
   "outputs": [
    {
     "name": "stdout",
     "output_type": "stream",
     "text": [
      "Repeating unit: [1, 3, 4, 7, 1, 8, 9, 7, 6, 3, 9, 2]\n"
     ]
    }
   ],
   "source": [
    "def number_bracelet(n, start1, start2):\n",
    "    bracelet = [start1, start2]\n",
    "    for i in range(2, n):\n",
    "        next_number = (bracelet[i-1] + bracelet[i-2]) % 10\n",
    "        bracelet.append(next_number)\n",
    "    return bracelet\n",
    "def repeating_series(series):\n",
    "    for i in range(1, len(series)):\n",
    "        if series[:i] == series[i:2*i]:\n",
    "            return series[:i]\n",
    "    return series\n",
    "# make a long bracelet starting with 1 and 3\n",
    "long_bracelet = number_bracelet(1000, 1, 3)\n",
    "\n",
    "# Find the repeating bracelet\n",
    "repeating_bracelet = repeating_series(long_bracelet)\n",
    "print(\"Repeating unit:\", repeating_bracelet)\n"
   ]
  },
  {
   "cell_type": "code",
   "execution_count": 15,
   "id": "0bfd2f9e-e80a-4b60-9953-56f5bcedc25c",
   "metadata": {
    "tags": []
   },
   "outputs": [
    {
     "name": "stdout",
     "output_type": "stream",
     "text": [
      "(0, 0)\n",
      "(0, 2)\n",
      "(0, 4)\n",
      "(0, 5)\n",
      "(0, 6)\n",
      "(0, 8)\n",
      "(2, 0)\n",
      "(2, 2)\n",
      "(2, 4)\n",
      "(2, 6)\n",
      "(2, 8)\n",
      "(4, 0)\n",
      "(4, 2)\n",
      "(4, 4)\n",
      "(4, 6)\n",
      "(4, 8)\n",
      "(5, 0)\n",
      "(5, 5)\n",
      "(6, 0)\n",
      "(6, 2)\n",
      "(6, 4)\n",
      "(6, 6)\n",
      "(6, 8)\n",
      "(8, 0)\n",
      "(8, 2)\n",
      "(8, 4)\n",
      "(8, 6)\n",
      "(8, 8)\n"
     ]
    }
   ],
   "source": [
    "# The provided sequence\n",
    "sequence = [1, 5, 6, 1, 7, 8, 5, 3, 8, 1, 9, 0, 9, 9, 8, 7, 5, 2, 7, 9, 6, 5, 1, 6, 7, 3, 0, 3, 3, 6, 9, 5, 4, 9, 3, 2, 5, 7, 2, 9, 1, 0, 1, 1, 2, 3, 5, 8, 3, 1, 4, 5, 9, 4, 3, 7, 0, 7, 7, 4, 1, 3, 4, 7, 1, 8, 9, 7, 6, 3, 9, 2, 1]\n",
    "\n",
    "# Generating all possible pairs of numbers from 0 to 9\n",
    "all_possible_pairs = [(i, j) for i in range(10) for j in range(10)]\n",
    "\n",
    "# Generating pairs from the provided sequence\n",
    "sequence_pairs = [(sequence[i], sequence[i+1]) for i in range(len(sequence)-1)]\n",
    "\n",
    "# Identifying missing pairs\n",
    "missing_pairs = set(all_possible_pairs) - set(sequence_pairs)\n",
    "\n",
    "missing_pairs_list = sorted(list(missing_pairs)) # Sorting the list for better readability\n",
    "\n",
    "# Print the missing pairs\n",
    "for pair in missing_pairs_list:\n",
    "    print(pair)"
   ]
  },
  {
   "cell_type": "code",
   "execution_count": 16,
   "id": "169bd09d-1cdf-4a09-86fd-64c97c525338",
   "metadata": {
    "tags": []
   },
   "outputs": [
    {
     "name": "stdout",
     "output_type": "stream",
     "text": [
      "Repeating unit: [0, 2, 2, 4, 6, 0, 6, 6, 2, 8, 0, 8, 8, 6, 4, 0, 4, 4, 8, 2]\n"
     ]
    }
   ],
   "source": [
    "def number_bracelet(n, start1, start2):\n",
    "    bracelet = [start1, start2]\n",
    "    for i in range(2, n):\n",
    "        next_number = (bracelet[i-1] + bracelet[i-2]) % 10\n",
    "        bracelet.append(next_number)\n",
    "    return bracelet\n",
    "def repeating_series(series):\n",
    "    for i in range(1, len(series)):\n",
    "        if series[:i] == series[i:2*i]:\n",
    "            return series[:i]\n",
    "    return series\n",
    "# make a long bracelet starting with 0 and 2\n",
    "long_bracelet = number_bracelet(1000, 0, 2)\n",
    "\n",
    "# Find the repeating bracelet\n",
    "repeating_bracelet = repeating_series(long_bracelet)\n",
    "print(\"Repeating unit:\", repeating_bracelet)\n"
   ]
  },
  {
   "cell_type": "code",
   "execution_count": 17,
   "id": "9ea654fb-1b6a-47f9-8960-09bc709749cf",
   "metadata": {
    "tags": []
   },
   "outputs": [
    {
     "name": "stdout",
     "output_type": "stream",
     "text": [
      "(0, 0)\n",
      "(0, 5)\n",
      "(2, 6)\n",
      "(4, 2)\n",
      "(5, 0)\n",
      "(5, 5)\n",
      "(6, 8)\n",
      "(8, 4)\n"
     ]
    }
   ],
   "source": [
    "# The provided sequence\n",
    "sequence = [1, 5, 6, 1, 7, 8, 5, 3, 8, 1, 9, 0, 9, 9, 8, 7, 5, 2, 7, 9, 6, 5, 1, 6, 7, 3, 0, 3, 3, 6, 9, 5, 4, 9, 3, 2, 5, 7, 2, 9, 1, 0, 1, 1, 2, 3, 5, 8, 3, 1, 4, 5, 9, 4, 3, 7, 0, 7, 7, 4, 1, 3, 4, 7, 1, 8, 9, 7, 6, 3, 9, 2, 1, 0, 2, 2, 4, 6, 0, 6, 6, 2, 8, 0, 8, 8, 6, 4, 0, 4, 4, 8, 2, 0]\n",
    "\n",
    "# Generating all possible pairs of numbers from 0 to 9\n",
    "all_possible_pairs = [(i, j) for i in range(10) for j in range(10)]\n",
    "\n",
    "# Generating pairs from the provided sequence\n",
    "sequence_pairs = [(sequence[i], sequence[i+1]) for i in range(len(sequence)-1)]\n",
    "\n",
    "# Identifying missing pairs\n",
    "missing_pairs = set(all_possible_pairs) - set(sequence_pairs)\n",
    "\n",
    "missing_pairs_list = sorted(list(missing_pairs)) # Sorting the list for better readability\n",
    "\n",
    "# Print the missing pairs\n",
    "for pair in missing_pairs_list:\n",
    "    print(pair)"
   ]
  },
  {
   "cell_type": "code",
   "execution_count": 18,
   "id": "02e049cd-ccd7-454b-b07b-c3cafef0aca4",
   "metadata": {
    "tags": []
   },
   "outputs": [
    {
     "name": "stdout",
     "output_type": "stream",
     "text": [
      "Repeating unit: [0, 5, 5]\n"
     ]
    }
   ],
   "source": [
    "def number_bracelet(n, start1, start2):\n",
    "    bracelet = [start1, start2]\n",
    "    for i in range(2, n):\n",
    "        next_number = (bracelet[i-1] + bracelet[i-2]) % 10\n",
    "        bracelet.append(next_number)\n",
    "    return bracelet\n",
    "def repeating_series(series):\n",
    "    for i in range(1, len(series)):\n",
    "        if series[:i] == series[i:2*i]:\n",
    "            return series[:i]\n",
    "    return series\n",
    "# make a long bracelet starting with 0 and 5\n",
    "long_bracelet = number_bracelet(1000, 0, 5)\n",
    "\n",
    "# Find the repeating bracelet\n",
    "repeating_bracelet = repeating_series(long_bracelet)\n",
    "print(\"Repeating unit:\", repeating_bracelet)"
   ]
  },
  {
   "cell_type": "code",
   "execution_count": 19,
   "id": "adc028d4-602e-43ec-b592-d94582490e1c",
   "metadata": {
    "tags": []
   },
   "outputs": [
    {
     "name": "stdout",
     "output_type": "stream",
     "text": [
      "(2, 6)\n",
      "(4, 2)\n",
      "(6, 8)\n",
      "(8, 4)\n"
     ]
    }
   ],
   "source": [
    "# The provided sequence\n",
    "sequence = [1, 5, 6, 1, 7, 8, 5, 3, 8, 1, 9, 0, 9, 9, 8, 7, 5, 2, 7, 9, 6, 5, 1, 6, 7, 3, 0, 3, 3, 6, 9, 5, 4, 9, 3, 2, 5, 7, 2, 9, 1, 0, 1, 1, 2, 3, 5, 8, 3, 1, 4, 5, 9, 4, 3, 7, 0, 7, 7, 4, 1, 3, 4, 7, 1, 8, 9, 7, 6, 3, 9, 2, 1, 0, 2, 2, 4, 6, 0, 6, 6, 2, 8, 0, 8, 8, 6, 4, 0, 4, 4, 8, 2, 0, 0, 5, 5, 0]\n",
    "\n",
    "# Generating all possible pairs of numbers from 0 to 9\n",
    "all_possible_pairs = [(i, j) for i in range(10) for j in range(10)]\n",
    "\n",
    "# Generating pairs from the provided sequence\n",
    "sequence_pairs = [(sequence[i], sequence[i+1]) for i in range(len(sequence)-1)]\n",
    "\n",
    "# Identifying missing pairs\n",
    "missing_pairs = set(all_possible_pairs) - set(sequence_pairs)\n",
    "\n",
    "missing_pairs_list = sorted(list(missing_pairs)) # Sorting the list for better readability\n",
    "\n",
    "# Print the missing pairs\n",
    "for pair in missing_pairs_list:\n",
    "    print(pair)"
   ]
  },
  {
   "cell_type": "code",
   "execution_count": 20,
   "id": "2c69a24e-2560-424b-a5bc-7159bb6f79ee",
   "metadata": {
    "tags": []
   },
   "outputs": [
    {
     "name": "stdout",
     "output_type": "stream",
     "text": [
      "Repeating unit: [2, 6, 8, 4]\n"
     ]
    }
   ],
   "source": [
    "def number_bracelet(n, start1, start2):\n",
    "    bracelet = [start1, start2]\n",
    "    for i in range(2, n):\n",
    "        next_number = (bracelet[i-1] + bracelet[i-2]) % 10\n",
    "        bracelet.append(next_number)\n",
    "    return bracelet\n",
    "def repeating_series(series):\n",
    "    for i in range(1, len(series)):\n",
    "        if series[:i] == series[i:2*i]:\n",
    "            return series[:i]\n",
    "    return series\n",
    "# make a long bracelet starting with 2 and 6\n",
    "long_bracelet = number_bracelet(1000, 2, 6)\n",
    "\n",
    "# Find the repeating bracelet\n",
    "repeating_bracelet = repeating_series(long_bracelet)\n",
    "print(\"Repeating unit:\", repeating_bracelet)"
   ]
  },
  {
   "cell_type": "code",
   "execution_count": 21,
   "id": "30bf9863-9bd3-4a27-a201-f2d93d9e7493",
   "metadata": {
    "tags": []
   },
   "outputs": [],
   "source": [
    "# The provided sequence\n",
    "sequence = [1, 5, 6, 1, 7, 8, 5, 3, 8, 1, 9, 0, 9, 9, 8, 7, 5, 2, 7, 9, 6, 5, 1, 6, 7, 3, 0, 3, 3, 6, 9, 5, 4, 9, 3, 2, 5, 7, 2, 9, 1, 0, 1, 1, 2, 3, 5, 8, 3, 1, 4, 5, 9, 4, 3, 7, 0, 7, 7, 4, 1, 3, 4, 7, 1, 8, 9, 7, 6, 3, 9, 2, 1, 0, 2, 2, 4, 6, 0, 6, 6, 2, 8, 0, 8, 8, 6, 4, 0, 4, 4, 8, 2, 0, 0, 5, 5, 0, 2, 6, 8, 4, 2]\n",
    "\n",
    "# Generating all possible pairs of numbers from 0 to 9\n",
    "all_possible_pairs = [(i, j) for i in range(10) for j in range(10)]\n",
    "\n",
    "# Generating pairs from the provided sequence\n",
    "sequence_pairs = [(sequence[i], sequence[i+1]) for i in range(len(sequence)-1)]\n",
    "\n",
    "# Identifying missing pairs\n",
    "missing_pairs = set(all_possible_pairs) - set(sequence_pairs)\n",
    "\n",
    "missing_pairs_list = sorted(list(missing_pairs)) # Sorting the list for better readability\n",
    "\n",
    "# Print the missing pairs\n",
    "for pair in missing_pairs_list:\n",
    "    print(pair)"
   ]
  },
  {
   "cell_type": "code",
   "execution_count": null,
   "id": "f01a2446-1ddd-4847-929d-f308b5d9cf40",
   "metadata": {},
   "outputs": [],
   "source": []
  },
  {
   "cell_type": "code",
   "execution_count": null,
   "id": "6dfad796-b3b2-47b3-ac22-2e26316146df",
   "metadata": {},
   "outputs": [],
   "source": []
  }
 ],
 "metadata": {
  "kernelspec": {
   "display_name": "Python 3 (ipykernel)",
   "language": "python",
   "name": "python3"
  },
  "language_info": {
   "codemirror_mode": {
    "name": "ipython",
    "version": 3
   },
   "file_extension": ".py",
   "mimetype": "text/x-python",
   "name": "python",
   "nbconvert_exporter": "python",
   "pygments_lexer": "ipython3",
   "version": "3.11.5"
  }
 },
 "nbformat": 4,
 "nbformat_minor": 5
}
