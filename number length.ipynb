{
 "cells": [
  {
   "cell_type": "code",
   "execution_count": 1,
   "id": "f67f7769-6a63-4cc0-a04a-9c660481c758",
   "metadata": {
    "tags": []
   },
   "outputs": [
    {
     "name": "stdout",
     "output_type": "stream",
     "text": [
      "The number of elements in the sequence is: 60\n"
     ]
    }
   ],
   "source": [
    "# Example sequence\n",
    "sequence = [1, 5, 6, 1, 7, 8, 5, 3, 8, 1, 9, 0, 9, 9, 8, 7, 5, 2, 7, 9, 6, 5, 1, 6, 7, 3, 0, 3, 3, 6, 9, 5, 4, 9, 3, 2, 5, 7, 2, 9, 1, 0, 1, 1, 2, 3, 5, 8, 3, 1, 4, 5, 9, 4, 3, 7, 0, 7, 7, 4]\n",
    "\n",
    "# Counting the number of elements in the sequence\n",
    "number_of_elements = len(sequence)\n",
    "\n",
    "print(\"The number of elements in the sequence is:\", number_of_elements)\n"
   ]
  },
  {
   "cell_type": "code",
   "execution_count": 2,
   "id": "c1d2c58f-2440-4ea9-8253-61cb43f82a81",
   "metadata": {
    "tags": []
   },
   "outputs": [
    {
     "name": "stdout",
     "output_type": "stream",
     "text": [
      "The number of elements in the sequence is: 12\n"
     ]
    }
   ],
   "source": [
    "# Example sequence\n",
    "sequence = [1, 3, 4, 7, 1, 8, 9, 7, 6, 3, 9, 2]\n",
    "\n",
    "# Counting the number of elements in the sequence\n",
    "number_of_elements = len(sequence)\n",
    "\n",
    "print(\"The number of elements in the sequence is:\", number_of_elements)\n"
   ]
  },
  {
   "cell_type": "code",
   "execution_count": 3,
   "id": "6823c856-9dfc-44cb-8205-2dee5ca0db01",
   "metadata": {
    "tags": []
   },
   "outputs": [
    {
     "name": "stdout",
     "output_type": "stream",
     "text": [
      "The number of elements in the sequence is: 20\n"
     ]
    }
   ],
   "source": [
    "# Example sequence\n",
    "sequence = [0, 2, 2, 4, 6, 0, 6, 6, 2, 8, 0, 8, 8, 6, 4, 0, 4, 4, 8, 2]\n",
    "\n",
    "# Counting the number of elements in the sequence\n",
    "number_of_elements = len(sequence)\n",
    "\n",
    "print(\"The number of elements in the sequence is:\", number_of_elements)\n"
   ]
  },
  {
   "cell_type": "code",
   "execution_count": null,
   "id": "c91db06d-4421-4b69-a4f3-a0f7e194a1fd",
   "metadata": {},
   "outputs": [],
   "source": []
  }
 ],
 "metadata": {
  "kernelspec": {
   "display_name": "Python 3 (ipykernel)",
   "language": "python",
   "name": "python3"
  },
  "language_info": {
   "codemirror_mode": {
    "name": "ipython",
    "version": 3
   },
   "file_extension": ".py",
   "mimetype": "text/x-python",
   "name": "python",
   "nbconvert_exporter": "python",
   "pygments_lexer": "ipython3",
   "version": "3.11.5"
  }
 },
 "nbformat": 4,
 "nbformat_minor": 5
}
